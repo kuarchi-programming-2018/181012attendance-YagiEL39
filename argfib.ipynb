{
 "cells": [
  {
   "cell_type": "code",
   "execution_count": null,
   "metadata": {},
   "outputs": [],
   "source": [
    "c=[0]\n",
    "def argfib(m):\n",
    "    a,b=0,1\n",
    "    for i in range(m):\n",
    "        a,b=b,a+b\n",
    "        if b<=m:\n",
    "            c.append(b)\n",
    "\n",
    "argfib(0)\n",
    "print(c[-1])\n",
    "    "
   ]
  }
 ],
 "metadata": {
  "kernelspec": {
   "display_name": "Python 3",
   "language": "python",
   "name": "python3"
  },
  "language_info": {
   "codemirror_mode": {
    "name": "ipython",
    "version": 3
   },
   "file_extension": ".py",
   "mimetype": "text/x-python",
   "name": "python",
   "nbconvert_exporter": "python",
   "pygments_lexer": "ipython3",
   "version": "3.7.0"
  }
 },
 "nbformat": 4,
 "nbformat_minor": 2
}
